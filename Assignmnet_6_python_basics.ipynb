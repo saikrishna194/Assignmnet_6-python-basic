{
  "nbformat": 4,
  "nbformat_minor": 0,
  "metadata": {
    "colab": {
      "name": "Assignmnet_6 python basics",
      "provenance": []
    },
    "kernelspec": {
      "name": "python3",
      "display_name": "Python 3"
    },
    "language_info": {
      "name": "python"
    }
  },
  "cells": [
    {
      "cell_type": "markdown",
      "source": [
        "1.What are Escape characters ? and how do you use them ?\n",
        "\n",
        "**Ans:**Escape characters represent characters in string values that would otherwise be difficult or impossible to type into code. we can use the backslash character to escape a single character or symbol\n",
        "example: \\t, \\n"
      ],
      "metadata": {
        "id": "JxHicDGW6TKM"
      }
    },
    {
      "cell_type": "markdown",
      "source": [
        "2.What do the escape characters n and t stand for ?\n",
        "\n",
        "**Ans:** \\n is a newline, \\t is a tab"
      ],
      "metadata": {
        "id": "v-ZJ7C_06XWo"
      }
    },
    {
      "cell_type": "markdown",
      "source": [
        "3.What is the way to include backslash character in a string?\n",
        "\n",
        "**Ans:** The \\\\ escape character will represent the backslash character in a string"
      ],
      "metadata": {
        "id": "iI3z9K1d6eDY"
      }
    },
    {
      "cell_type": "markdown",
      "source": [
        "4.The string \"Howl's Moving Castle\" is a correct value. Why isn't the single quote character in the word Howl's not escaped a problem ?\n",
        "\n",
        "**Ans:** The string \"Howl's Moving Castle\" escaped the problem because it is wrapped inside double quotes. if its wrapped inside single quotes then we have to use escape character \\' to show single quote in the final output\n",
        "'Howl\\'s Moving Castle' -> 'Howl's Moving Castle'"
      ],
      "metadata": {
        "id": "cPmhKmaq6h6h"
      }
    },
    {
      "cell_type": "markdown",
      "source": [
        "5.How do you write a string of newlines if you don't want to use the n character?\n",
        "\n",
        "**Ans:** Multiline string allow you to use newlines in string without the \\n escape character"
      ],
      "metadata": {
        "id": "R01mozOk6mjx"
      }
    },
    {
      "cell_type": "code",
      "source": [
        "a = '''iNeuron full stack\n",
        "Data Science Course'''\n",
        "print(a)"
      ],
      "metadata": {
        "colab": {
          "base_uri": "https://localhost:8080/"
        },
        "id": "9ZaKAAW86tBV",
        "outputId": "334f61fb-7fec-4435-edc3-ae862318a9b1"
      },
      "execution_count": 1,
      "outputs": [
        {
          "output_type": "stream",
          "name": "stdout",
          "text": [
            "iNeuron full stack\n",
            "Data Science Course\n"
          ]
        }
      ]
    },
    {
      "cell_type": "markdown",
      "source": [
        "6.What are the values of the given expressions ?\n",
        "\n",
        "'Hello, world!'[1]\n",
        "\n",
        "'Hello, world!'[0:5]\n",
        "\n",
        "'Hello, world!'[:5]\n",
        "\n",
        "'Hello, world!'[3:]"
      ],
      "metadata": {
        "id": "HzM5DaeO6qvr"
      }
    },
    {
      "cell_type": "markdown",
      "source": [
        "**Ans:** The values for the given expressions are:\n",
        "\n",
        "'Hello, world!'[1] -> 'e'\n",
        "\n",
        "'Hello, world!'[0:5] -> 'Hello'\n",
        "\n",
        "'Hello, world!'[:5] -> 'Hello'\n",
        "\n",
        "'Hello, world!'[3:] -> 'lo, world!'"
      ],
      "metadata": {
        "id": "OZjpqeuB6_YH"
      }
    },
    {
      "cell_type": "markdown",
      "source": [
        "7.What are the values of the following expressions ?\n",
        "\n",
        "'Hello'.upper()\n",
        "\n",
        "'Hello'.upper().isupper()\n",
        "\n",
        "'Hello'.upper().lower()"
      ],
      "metadata": {
        "id": "VYk8FIlb7ASI"
      }
    },
    {
      "cell_type": "markdown",
      "source": [
        "**Ans**: The values for the given expressions are:\n",
        "\n",
        "'Hello'.upper() -> 'HELLO'\n",
        "\n",
        "'Hello'.upper().isupper() -> True\n",
        "\n",
        "'Hello'.upper().lower() -> 'hello'"
      ],
      "metadata": {
        "id": "LTqCfkJS7JY-"
      }
    },
    {
      "cell_type": "markdown",
      "source": [
        "8.What are the values of the following expressions ?\n",
        "'Remember, remember, the fifith of July.'.split()\n",
        "-'.join('There can only one'.split())\n",
        "\n",
        "**Ans:** The values for the given expressions are:\n",
        "'Remember, remember, the fifith of July.'.split() -> ['Remember,', 'remember,', 'the', 'fifith', 'of', 'July.']\n",
        "'-'.join('There can only one'.split()) -> 'There-can-only-one'"
      ],
      "metadata": {
        "id": "ZdxQ7S1n7Uk0"
      }
    },
    {
      "cell_type": "markdown",
      "source": [
        "9.What are the methods for right-justifying, left-justifying and centering a string ?\n",
        "\n",
        "**Ans:** The rjust(),ljust(),center() string methods, respectively"
      ],
      "metadata": {
        "id": "T3igMcUT7amK"
      }
    },
    {
      "cell_type": "markdown",
      "source": [
        "10.What is the best way to remove whitespace characters from the start or end ?\n",
        "\n",
        "**Ans:**The lstrip() and rstrip() methods remove whitesapce characters from the left and right ends of a string respectively"
      ],
      "metadata": {
        "id": "SsTH4Lm97fNT"
      }
    }
  ]
}